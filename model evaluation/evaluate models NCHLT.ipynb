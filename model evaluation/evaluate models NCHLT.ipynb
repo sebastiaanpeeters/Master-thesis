{
 "cells": [
  {
   "cell_type": "code",
   "execution_count": 8,
   "id": "0635ef26",
   "metadata": {},
   "outputs": [],
   "source": [
    "import torch\n",
    "from transformers import WhisperProcessor, WhisperForConditionalGeneration\n",
    "from datasets import load_dataset, load_metric, load_from_disk, Audio\n",
    "from evaluate import load\n",
    "import librosa\n",
    "import pandas as pd\n",
    "import re\n",
    "import unicodedata"
   ]
  },
  {
   "cell_type": "code",
   "execution_count": 9,
   "id": "739387ba",
   "metadata": {},
   "outputs": [],
   "source": [
    "models = [\"openai/whisper-small\", \"afr_FLEURS_model\",\"afr_de_FLEURS_model\",\"afr_nl_FLEURS_model\",\"afr_NCHLT_FLEURS_model\",\n",
    "         \"afr_de_FLEURS_model_5h\", \"afr_south_hollandic_model\", \"afr_flemish_model\", \"afr_south_hollandic_v2_model\", \n",
    "          \"afr_flemish_v2_model\"]\n",
    "\n",
    "dataset = load_from_disk('dataset_afr_only')\n",
    "dataset = dataset['test']\n",
    "\n",
    "dataset = dataset.rename_column('text', 'transcription')\n",
    "dataset = dataset.rename_column('file', 'audio')\n",
    "\n",
    "dataset = dataset.cast_column(\"audio\", Audio(sampling_rate=16000))\n",
    "\n",
    "dest_folder = 'evaluation_output_nchlt'\n",
    "model_folder = 'models'\n",
    "\n",
    "\n",
    "\n",
    "def get_metrics(model_name):\n",
    "    \n",
    "    processor = WhisperProcessor.from_pretrained(\"openai/whisper-small\")\n",
    "    \n",
    "    if model_name == \"openai/whisper-small\":\n",
    "        model_path = model_name\n",
    "    else:\n",
    "        model_path = model_folder + \"/\" + model_name\n",
    "    \n",
    "    model = WhisperForConditionalGeneration.from_pretrained(model_path).to(\"cuda\")\n",
    "\n",
    "    def map_to_pred(batch):\n",
    "\n",
    "        audio = batch[\"audio\"]\n",
    "\n",
    "        input_features = processor(audio[\"array\"], sampling_rate=audio[\"sampling_rate\"], return_tensors=\"pt\").input_features\n",
    "\n",
    "        batch[\"reference\"] = processor.tokenizer._normalize(batch['transcription'])\n",
    "\n",
    "\n",
    "        with torch.no_grad():\n",
    "\n",
    "            predicted_ids = model.generate(input_features.to(\"cuda\"))[0]\n",
    "\n",
    "        transcription = processor.decode(predicted_ids)\n",
    "\n",
    "        batch[\"prediction\"] = processor.tokenizer._normalize(transcription)\n",
    "\n",
    "        return batch\n",
    "    \n",
    "    \n",
    "    result = dataset.map(map_to_pred)\n",
    "\n",
    "    wer = load(\"wer\")\n",
    "    cer = load(\"cer\")\n",
    "    \n",
    "    wer_res = 100 * wer.compute(references=result[\"reference\"], predictions=result[\"prediction\"])\n",
    "    cer_res = 100 * cer.compute(references=result[\"reference\"], predictions=result[\"prediction\"])\n",
    "    \n",
    "    #Save the references and predictions to file for qualitative evaluation\n",
    "    df = pd.DataFrame({'reference': result['reference'], 'prediction': result['prediction']})\n",
    "    df.to_csv(f\"{dest_folder}/{model_name.replace('/','_')}.csv\",sep=',', index=False)\n",
    "    \n",
    "    return wer_res, cer_res"
   ]
  },
  {
   "cell_type": "code",
   "execution_count": 12,
   "id": "f1edba55",
   "metadata": {},
   "outputs": [
    {
     "name": "stderr",
     "output_type": "stream",
     "text": [
      "Special tokens have been added in the vocabulary, make sure the associated word embeddings are fine-tuned or trained.\n",
      "Special tokens have been added in the vocabulary, make sure the associated word embeddings are fine-tuned or trained.\n"
     ]
    },
    {
     "data": {
      "application/vnd.jupyter.widget-view+json": {
       "model_id": "993f38b711af4cb796e2ae49606d3806",
       "version_major": 2,
       "version_minor": 0
      },
      "text/plain": [
       "Map:   0%|          | 0/3002 [00:00<?, ? examples/s]"
      ]
     },
     "metadata": {},
     "output_type": "display_data"
    },
    {
     "name": "stderr",
     "output_type": "stream",
     "text": [
      "Special tokens have been added in the vocabulary, make sure the associated word embeddings are fine-tuned or trained.\n"
     ]
    },
    {
     "data": {
      "application/vnd.jupyter.widget-view+json": {
       "model_id": "d2e3f9b4ea3443af88ed5a76eeed20b1",
       "version_major": 2,
       "version_minor": 0
      },
      "text/plain": [
       "Map:   0%|          | 0/3002 [00:00<?, ? examples/s]"
      ]
     },
     "metadata": {},
     "output_type": "display_data"
    },
    {
     "name": "stderr",
     "output_type": "stream",
     "text": [
      "Special tokens have been added in the vocabulary, make sure the associated word embeddings are fine-tuned or trained.\n"
     ]
    },
    {
     "data": {
      "application/vnd.jupyter.widget-view+json": {
       "model_id": "7de54a818201455d907ef3070960e7cd",
       "version_major": 2,
       "version_minor": 0
      },
      "text/plain": [
       "Map:   0%|          | 0/3002 [00:00<?, ? examples/s]"
      ]
     },
     "metadata": {},
     "output_type": "display_data"
    },
    {
     "name": "stderr",
     "output_type": "stream",
     "text": [
      "Special tokens have been added in the vocabulary, make sure the associated word embeddings are fine-tuned or trained.\n"
     ]
    },
    {
     "data": {
      "application/vnd.jupyter.widget-view+json": {
       "model_id": "904f653e4cfb4db9aaf529bd2e785491",
       "version_major": 2,
       "version_minor": 0
      },
      "text/plain": [
       "Map:   0%|          | 0/3002 [00:00<?, ? examples/s]"
      ]
     },
     "metadata": {},
     "output_type": "display_data"
    },
    {
     "name": "stderr",
     "output_type": "stream",
     "text": [
      "Special tokens have been added in the vocabulary, make sure the associated word embeddings are fine-tuned or trained.\n"
     ]
    },
    {
     "data": {
      "application/vnd.jupyter.widget-view+json": {
       "model_id": "1b96ed6c4bc14eb2a31ce6e47c7d681c",
       "version_major": 2,
       "version_minor": 0
      },
      "text/plain": [
       "Map:   0%|          | 0/3002 [00:00<?, ? examples/s]"
      ]
     },
     "metadata": {},
     "output_type": "display_data"
    },
    {
     "name": "stderr",
     "output_type": "stream",
     "text": [
      "Special tokens have been added in the vocabulary, make sure the associated word embeddings are fine-tuned or trained.\n"
     ]
    },
    {
     "data": {
      "application/vnd.jupyter.widget-view+json": {
       "model_id": "e758950ffd964f2da9d790f4aa45e286",
       "version_major": 2,
       "version_minor": 0
      },
      "text/plain": [
       "Map:   0%|          | 0/3002 [00:00<?, ? examples/s]"
      ]
     },
     "metadata": {},
     "output_type": "display_data"
    },
    {
     "name": "stderr",
     "output_type": "stream",
     "text": [
      "Special tokens have been added in the vocabulary, make sure the associated word embeddings are fine-tuned or trained.\n"
     ]
    },
    {
     "data": {
      "application/vnd.jupyter.widget-view+json": {
       "model_id": "f8b14e879bcc49f3850200a09db9546f",
       "version_major": 2,
       "version_minor": 0
      },
      "text/plain": [
       "Map:   0%|          | 0/3002 [00:00<?, ? examples/s]"
      ]
     },
     "metadata": {},
     "output_type": "display_data"
    },
    {
     "name": "stderr",
     "output_type": "stream",
     "text": [
      "Special tokens have been added in the vocabulary, make sure the associated word embeddings are fine-tuned or trained.\n"
     ]
    },
    {
     "data": {
      "application/vnd.jupyter.widget-view+json": {
       "model_id": "2353a17eb09741699bdfc717fa886c08",
       "version_major": 2,
       "version_minor": 0
      },
      "text/plain": [
       "Map:   0%|          | 0/3002 [00:00<?, ? examples/s]"
      ]
     },
     "metadata": {},
     "output_type": "display_data"
    },
    {
     "name": "stderr",
     "output_type": "stream",
     "text": [
      "Special tokens have been added in the vocabulary, make sure the associated word embeddings are fine-tuned or trained.\n"
     ]
    },
    {
     "data": {
      "application/vnd.jupyter.widget-view+json": {
       "model_id": "588b9e14ad054a4891917283bd4df6af",
       "version_major": 2,
       "version_minor": 0
      },
      "text/plain": [
       "Map:   0%|          | 0/3002 [00:00<?, ? examples/s]"
      ]
     },
     "metadata": {},
     "output_type": "display_data"
    },
    {
     "data": {
      "text/html": [
       "<div>\n",
       "<style scoped>\n",
       "    .dataframe tbody tr th:only-of-type {\n",
       "        vertical-align: middle;\n",
       "    }\n",
       "\n",
       "    .dataframe tbody tr th {\n",
       "        vertical-align: top;\n",
       "    }\n",
       "\n",
       "    .dataframe thead th {\n",
       "        text-align: right;\n",
       "    }\n",
       "</style>\n",
       "<table border=\"1\" class=\"dataframe\">\n",
       "  <thead>\n",
       "    <tr style=\"text-align: right;\">\n",
       "      <th></th>\n",
       "      <th>model</th>\n",
       "      <th>wer</th>\n",
       "      <th>cer</th>\n",
       "    </tr>\n",
       "  </thead>\n",
       "  <tbody>\n",
       "    <tr>\n",
       "      <th>0</th>\n",
       "      <td>openai/whisper-small</td>\n",
       "      <td>171.304348</td>\n",
       "      <td>66.939708</td>\n",
       "    </tr>\n",
       "    <tr>\n",
       "      <th>1</th>\n",
       "      <td>afr_FLEURS_model</td>\n",
       "      <td>104.800000</td>\n",
       "      <td>29.064504</td>\n",
       "    </tr>\n",
       "    <tr>\n",
       "      <th>2</th>\n",
       "      <td>afr_de_FLEURS_model</td>\n",
       "      <td>71.084058</td>\n",
       "      <td>15.972213</td>\n",
       "    </tr>\n",
       "    <tr>\n",
       "      <th>3</th>\n",
       "      <td>afr_nl_FLEURS_model</td>\n",
       "      <td>91.443478</td>\n",
       "      <td>22.359730</td>\n",
       "    </tr>\n",
       "    <tr>\n",
       "      <th>4</th>\n",
       "      <td>afr_NCHLT_FLEURS_model</td>\n",
       "      <td>17.379710</td>\n",
       "      <td>2.817017</td>\n",
       "    </tr>\n",
       "    <tr>\n",
       "      <th>5</th>\n",
       "      <td>afr_de_FLEURS_model_5h</td>\n",
       "      <td>83.304348</td>\n",
       "      <td>19.760143</td>\n",
       "    </tr>\n",
       "    <tr>\n",
       "      <th>6</th>\n",
       "      <td>afr_south_hollandic_model</td>\n",
       "      <td>103.257971</td>\n",
       "      <td>26.629015</td>\n",
       "    </tr>\n",
       "    <tr>\n",
       "      <th>7</th>\n",
       "      <td>afr_flemish_model</td>\n",
       "      <td>106.620290</td>\n",
       "      <td>32.425780</td>\n",
       "    </tr>\n",
       "    <tr>\n",
       "      <th>8</th>\n",
       "      <td>afr_south_hollandic_v2_model</td>\n",
       "      <td>79.930435</td>\n",
       "      <td>18.324285</td>\n",
       "    </tr>\n",
       "    <tr>\n",
       "      <th>9</th>\n",
       "      <td>afr_flemish_v2_model</td>\n",
       "      <td>89.310145</td>\n",
       "      <td>23.961054</td>\n",
       "    </tr>\n",
       "  </tbody>\n",
       "</table>\n",
       "</div>"
      ],
      "text/plain": [
       "                          model         wer        cer\n",
       "0          openai/whisper-small  171.304348  66.939708\n",
       "1              afr_FLEURS_model  104.800000  29.064504\n",
       "2           afr_de_FLEURS_model   71.084058  15.972213\n",
       "3           afr_nl_FLEURS_model   91.443478  22.359730\n",
       "4        afr_NCHLT_FLEURS_model   17.379710   2.817017\n",
       "5        afr_de_FLEURS_model_5h   83.304348  19.760143\n",
       "6     afr_south_hollandic_model  103.257971  26.629015\n",
       "7             afr_flemish_model  106.620290  32.425780\n",
       "8  afr_south_hollandic_v2_model   79.930435  18.324285\n",
       "9          afr_flemish_v2_model   89.310145  23.961054"
      ]
     },
     "execution_count": 12,
     "metadata": {},
     "output_type": "execute_result"
    }
   ],
   "source": [
    "wers = []\n",
    "cers = []\n",
    "for model in models:\n",
    "    w, c = get_metrics(model)\n",
    "    wers.append(w)\n",
    "    cers.append(c)\n",
    "\n",
    "df = pd.DataFrame({'model': models, 'wer': wers, 'cer':cers})\n",
    "df.to_csv(f'{dest_folder}/model_metrics.csv',sep=',', index=False)\n",
    "df"
   ]
  },
  {
   "cell_type": "code",
   "execution_count": 13,
   "id": "f219b81f",
   "metadata": {},
   "outputs": [
    {
     "data": {
      "text/html": [
       "<div>\n",
       "<style scoped>\n",
       "    .dataframe tbody tr th:only-of-type {\n",
       "        vertical-align: middle;\n",
       "    }\n",
       "\n",
       "    .dataframe tbody tr th {\n",
       "        vertical-align: top;\n",
       "    }\n",
       "\n",
       "    .dataframe thead th {\n",
       "        text-align: right;\n",
       "    }\n",
       "</style>\n",
       "<table border=\"1\" class=\"dataframe\">\n",
       "  <thead>\n",
       "    <tr style=\"text-align: right;\">\n",
       "      <th></th>\n",
       "      <th>model</th>\n",
       "      <th>wer</th>\n",
       "      <th>cer</th>\n",
       "    </tr>\n",
       "  </thead>\n",
       "  <tbody>\n",
       "    <tr>\n",
       "      <th>4</th>\n",
       "      <td>afr_NCHLT_FLEURS_model</td>\n",
       "      <td>17.379710</td>\n",
       "      <td>2.817017</td>\n",
       "    </tr>\n",
       "    <tr>\n",
       "      <th>2</th>\n",
       "      <td>afr_de_FLEURS_model</td>\n",
       "      <td>71.084058</td>\n",
       "      <td>15.972213</td>\n",
       "    </tr>\n",
       "    <tr>\n",
       "      <th>8</th>\n",
       "      <td>afr_south_hollandic_v2_model</td>\n",
       "      <td>79.930435</td>\n",
       "      <td>18.324285</td>\n",
       "    </tr>\n",
       "    <tr>\n",
       "      <th>5</th>\n",
       "      <td>afr_de_FLEURS_model_5h</td>\n",
       "      <td>83.304348</td>\n",
       "      <td>19.760143</td>\n",
       "    </tr>\n",
       "    <tr>\n",
       "      <th>9</th>\n",
       "      <td>afr_flemish_v2_model</td>\n",
       "      <td>89.310145</td>\n",
       "      <td>23.961054</td>\n",
       "    </tr>\n",
       "    <tr>\n",
       "      <th>3</th>\n",
       "      <td>afr_nl_FLEURS_model</td>\n",
       "      <td>91.443478</td>\n",
       "      <td>22.359730</td>\n",
       "    </tr>\n",
       "    <tr>\n",
       "      <th>6</th>\n",
       "      <td>afr_south_hollandic_model</td>\n",
       "      <td>103.257971</td>\n",
       "      <td>26.629015</td>\n",
       "    </tr>\n",
       "    <tr>\n",
       "      <th>1</th>\n",
       "      <td>afr_FLEURS_model</td>\n",
       "      <td>104.800000</td>\n",
       "      <td>29.064504</td>\n",
       "    </tr>\n",
       "    <tr>\n",
       "      <th>7</th>\n",
       "      <td>afr_flemish_model</td>\n",
       "      <td>106.620290</td>\n",
       "      <td>32.425780</td>\n",
       "    </tr>\n",
       "    <tr>\n",
       "      <th>0</th>\n",
       "      <td>openai/whisper-small</td>\n",
       "      <td>171.304348</td>\n",
       "      <td>66.939708</td>\n",
       "    </tr>\n",
       "  </tbody>\n",
       "</table>\n",
       "</div>"
      ],
      "text/plain": [
       "                          model         wer        cer\n",
       "4        afr_NCHLT_FLEURS_model   17.379710   2.817017\n",
       "2           afr_de_FLEURS_model   71.084058  15.972213\n",
       "8  afr_south_hollandic_v2_model   79.930435  18.324285\n",
       "5        afr_de_FLEURS_model_5h   83.304348  19.760143\n",
       "9          afr_flemish_v2_model   89.310145  23.961054\n",
       "3           afr_nl_FLEURS_model   91.443478  22.359730\n",
       "6     afr_south_hollandic_model  103.257971  26.629015\n",
       "1              afr_FLEURS_model  104.800000  29.064504\n",
       "7             afr_flemish_model  106.620290  32.425780\n",
       "0          openai/whisper-small  171.304348  66.939708"
      ]
     },
     "execution_count": 13,
     "metadata": {},
     "output_type": "execute_result"
    }
   ],
   "source": [
    "df.sort_values(by='wer')"
   ]
  },
  {
   "cell_type": "code",
   "execution_count": 14,
   "id": "97fdfb87",
   "metadata": {},
   "outputs": [
    {
     "data": {
      "text/html": [
       "<div>\n",
       "<style scoped>\n",
       "    .dataframe tbody tr th:only-of-type {\n",
       "        vertical-align: middle;\n",
       "    }\n",
       "\n",
       "    .dataframe tbody tr th {\n",
       "        vertical-align: top;\n",
       "    }\n",
       "\n",
       "    .dataframe thead th {\n",
       "        text-align: right;\n",
       "    }\n",
       "</style>\n",
       "<table border=\"1\" class=\"dataframe\">\n",
       "  <thead>\n",
       "    <tr style=\"text-align: right;\">\n",
       "      <th></th>\n",
       "      <th>model</th>\n",
       "      <th>wer</th>\n",
       "      <th>cer</th>\n",
       "    </tr>\n",
       "  </thead>\n",
       "  <tbody>\n",
       "    <tr>\n",
       "      <th>4</th>\n",
       "      <td>afr_NCHLT_FLEURS_model</td>\n",
       "      <td>17.379710</td>\n",
       "      <td>2.817017</td>\n",
       "    </tr>\n",
       "    <tr>\n",
       "      <th>2</th>\n",
       "      <td>afr_de_FLEURS_model</td>\n",
       "      <td>71.084058</td>\n",
       "      <td>15.972213</td>\n",
       "    </tr>\n",
       "    <tr>\n",
       "      <th>8</th>\n",
       "      <td>afr_south_hollandic_v2_model</td>\n",
       "      <td>79.930435</td>\n",
       "      <td>18.324285</td>\n",
       "    </tr>\n",
       "    <tr>\n",
       "      <th>5</th>\n",
       "      <td>afr_de_FLEURS_model_5h</td>\n",
       "      <td>83.304348</td>\n",
       "      <td>19.760143</td>\n",
       "    </tr>\n",
       "    <tr>\n",
       "      <th>3</th>\n",
       "      <td>afr_nl_FLEURS_model</td>\n",
       "      <td>91.443478</td>\n",
       "      <td>22.359730</td>\n",
       "    </tr>\n",
       "    <tr>\n",
       "      <th>9</th>\n",
       "      <td>afr_flemish_v2_model</td>\n",
       "      <td>89.310145</td>\n",
       "      <td>23.961054</td>\n",
       "    </tr>\n",
       "    <tr>\n",
       "      <th>6</th>\n",
       "      <td>afr_south_hollandic_model</td>\n",
       "      <td>103.257971</td>\n",
       "      <td>26.629015</td>\n",
       "    </tr>\n",
       "    <tr>\n",
       "      <th>1</th>\n",
       "      <td>afr_FLEURS_model</td>\n",
       "      <td>104.800000</td>\n",
       "      <td>29.064504</td>\n",
       "    </tr>\n",
       "    <tr>\n",
       "      <th>7</th>\n",
       "      <td>afr_flemish_model</td>\n",
       "      <td>106.620290</td>\n",
       "      <td>32.425780</td>\n",
       "    </tr>\n",
       "    <tr>\n",
       "      <th>0</th>\n",
       "      <td>openai/whisper-small</td>\n",
       "      <td>171.304348</td>\n",
       "      <td>66.939708</td>\n",
       "    </tr>\n",
       "  </tbody>\n",
       "</table>\n",
       "</div>"
      ],
      "text/plain": [
       "                          model         wer        cer\n",
       "4        afr_NCHLT_FLEURS_model   17.379710   2.817017\n",
       "2           afr_de_FLEURS_model   71.084058  15.972213\n",
       "8  afr_south_hollandic_v2_model   79.930435  18.324285\n",
       "5        afr_de_FLEURS_model_5h   83.304348  19.760143\n",
       "3           afr_nl_FLEURS_model   91.443478  22.359730\n",
       "9          afr_flemish_v2_model   89.310145  23.961054\n",
       "6     afr_south_hollandic_model  103.257971  26.629015\n",
       "1              afr_FLEURS_model  104.800000  29.064504\n",
       "7             afr_flemish_model  106.620290  32.425780\n",
       "0          openai/whisper-small  171.304348  66.939708"
      ]
     },
     "execution_count": 14,
     "metadata": {},
     "output_type": "execute_result"
    }
   ],
   "source": [
    "df.sort_values(by='cer')"
   ]
  },
  {
   "cell_type": "code",
   "execution_count": null,
   "id": "c3615b0a",
   "metadata": {},
   "outputs": [],
   "source": []
  }
 ],
 "metadata": {
  "kernelspec": {
   "display_name": "Python 3 (ipykernel)",
   "language": "python",
   "name": "python3"
  },
  "language_info": {
   "codemirror_mode": {
    "name": "ipython",
    "version": 3
   },
   "file_extension": ".py",
   "mimetype": "text/x-python",
   "name": "python",
   "nbconvert_exporter": "python",
   "pygments_lexer": "ipython3",
   "version": "3.11.4"
  }
 },
 "nbformat": 4,
 "nbformat_minor": 5
}
