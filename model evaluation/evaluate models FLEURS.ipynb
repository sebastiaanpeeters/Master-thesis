{
 "cells": [
  {
   "cell_type": "code",
   "execution_count": 1,
   "id": "0635ef26",
   "metadata": {},
   "outputs": [],
   "source": [
    "import torch\n",
    "from transformers import WhisperProcessor, WhisperForConditionalGeneration\n",
    "from datasets import load_dataset, load_metric, load_from_disk\n",
    "from evaluate import load\n",
    "import librosa\n",
    "import pandas as pd\n",
    "import re\n",
    "import unicodedata"
   ]
  },
  {
   "cell_type": "code",
   "execution_count": 8,
   "id": "739387ba",
   "metadata": {},
   "outputs": [],
   "source": [
    "models = [\"openai/whisper-small\", \"afr_FLEURS_model\",\"afr_de_FLEURS_model\",\"afr_nl_FLEURS_model\",\"afr_NCHLT_FLEURS_model\",\n",
    "         \"afr_de_FLEURS_model_5h\", \"afr_south_hollandic_model\", \"afr_flemish_model\", \"afr_south_hollandic_v2_model\", \n",
    "          \"afr_flemish_v2_model\"]\n",
    "\n",
    "dataset = load_dataset(\"google/fleurs\", \"af_za\", split=\"test\", trust_remote_code=True)\n",
    "\n",
    "dest_folder = 'evaluation_output'\n",
    "\n",
    "\n",
    "\n",
    "def get_metrics(model_name):\n",
    "    \n",
    "    processor = WhisperProcessor.from_pretrained(\"openai/whisper-small\")\n",
    "    model = WhisperForConditionalGeneration.from_pretrained(model_name).to(\"cuda\")\n",
    "\n",
    "    def map_to_pred(batch):\n",
    "\n",
    "        audio = batch[\"audio\"]\n",
    "\n",
    "        input_features = processor(audio[\"array\"], sampling_rate=audio[\"sampling_rate\"], return_tensors=\"pt\").input_features\n",
    "\n",
    "        batch[\"reference\"] = processor.tokenizer._normalize(batch['transcription'])\n",
    "\n",
    "\n",
    "        with torch.no_grad():\n",
    "\n",
    "            predicted_ids = model.generate(input_features.to(\"cuda\"))[0]\n",
    "\n",
    "        transcription = processor.decode(predicted_ids)\n",
    "\n",
    "        batch[\"prediction\"] = processor.tokenizer._normalize(transcription)\n",
    "\n",
    "        return batch\n",
    "    \n",
    "    \n",
    "    result = dataset.map(map_to_pred)\n",
    "\n",
    "    wer = load(\"wer\")\n",
    "    cer = load(\"cer\")\n",
    "    \n",
    "    wer_res = 100 * wer.compute(references=result[\"reference\"], predictions=result[\"prediction\"])\n",
    "    cer_res = 100 * cer.compute(references=result[\"reference\"], predictions=result[\"prediction\"])\n",
    "    \n",
    "    #Save the references and predictions to file for qualitative evaluation\n",
    "    df = pd.DataFrame({'reference': result['reference'], 'prediction': result['prediction']})\n",
    "    df.to_csv(f\"{dest_folder}/{model_name.replace('/','_')}.csv\",sep=',', index=False)\n",
    "    \n",
    "    return wer_res, cer_res"
   ]
  },
  {
   "cell_type": "code",
   "execution_count": 9,
   "id": "f1edba55",
   "metadata": {},
   "outputs": [
    {
     "name": "stderr",
     "output_type": "stream",
     "text": [
      "Special tokens have been added in the vocabulary, make sure the associated word embeddings are fine-tuned or trained.\n",
      "Special tokens have been added in the vocabulary, make sure the associated word embeddings are fine-tuned or trained.\n"
     ]
    },
    {
     "data": {
      "application/vnd.jupyter.widget-view+json": {
       "model_id": "40e0f9be37674e49aff7b4154acf882c",
       "version_major": 2,
       "version_minor": 0
      },
      "text/plain": [
       "Map:   0%|          | 0/264 [00:00<?, ? examples/s]"
      ]
     },
     "metadata": {},
     "output_type": "display_data"
    },
    {
     "name": "stderr",
     "output_type": "stream",
     "text": [
      "C:\\Users\\Augustijn\\AppData\\Roaming\\Python\\Python310\\site-packages\\transformers\\models\\whisper\\tokenization_whisper.py:511: UserWarning: The private method `_normalize` is deprecated and will be removed in v5 of Transformers.You can normalize an input string using the Whisper English normalizer using the `normalize` method.\n",
      "  warnings.warn(\n",
      "Special tokens have been added in the vocabulary, make sure the associated word embeddings are fine-tuned or trained.\n"
     ]
    },
    {
     "data": {
      "application/vnd.jupyter.widget-view+json": {
       "model_id": "e9f0a60cc52544218578a11db915a546",
       "version_major": 2,
       "version_minor": 0
      },
      "text/plain": [
       "Map:   0%|          | 0/264 [00:00<?, ? examples/s]"
      ]
     },
     "metadata": {},
     "output_type": "display_data"
    },
    {
     "name": "stderr",
     "output_type": "stream",
     "text": [
      "C:\\Users\\Augustijn\\AppData\\Roaming\\Python\\Python310\\site-packages\\transformers\\models\\whisper\\tokenization_whisper.py:511: UserWarning: The private method `_normalize` is deprecated and will be removed in v5 of Transformers.You can normalize an input string using the Whisper English normalizer using the `normalize` method.\n",
      "  warnings.warn(\n",
      "Special tokens have been added in the vocabulary, make sure the associated word embeddings are fine-tuned or trained.\n"
     ]
    },
    {
     "data": {
      "application/vnd.jupyter.widget-view+json": {
       "model_id": "7efbfe103990419c9c46dcfe409c4814",
       "version_major": 2,
       "version_minor": 0
      },
      "text/plain": [
       "Map:   0%|          | 0/264 [00:00<?, ? examples/s]"
      ]
     },
     "metadata": {},
     "output_type": "display_data"
    },
    {
     "name": "stderr",
     "output_type": "stream",
     "text": [
      "C:\\Users\\Augustijn\\AppData\\Roaming\\Python\\Python310\\site-packages\\transformers\\models\\whisper\\tokenization_whisper.py:511: UserWarning: The private method `_normalize` is deprecated and will be removed in v5 of Transformers.You can normalize an input string using the Whisper English normalizer using the `normalize` method.\n",
      "  warnings.warn(\n",
      "Special tokens have been added in the vocabulary, make sure the associated word embeddings are fine-tuned or trained.\n"
     ]
    },
    {
     "data": {
      "application/vnd.jupyter.widget-view+json": {
       "model_id": "819136cb47cc427192a331f1dfd03861",
       "version_major": 2,
       "version_minor": 0
      },
      "text/plain": [
       "Map:   0%|          | 0/264 [00:00<?, ? examples/s]"
      ]
     },
     "metadata": {},
     "output_type": "display_data"
    },
    {
     "name": "stderr",
     "output_type": "stream",
     "text": [
      "C:\\Users\\Augustijn\\AppData\\Roaming\\Python\\Python310\\site-packages\\transformers\\models\\whisper\\tokenization_whisper.py:511: UserWarning: The private method `_normalize` is deprecated and will be removed in v5 of Transformers.You can normalize an input string using the Whisper English normalizer using the `normalize` method.\n",
      "  warnings.warn(\n",
      "Special tokens have been added in the vocabulary, make sure the associated word embeddings are fine-tuned or trained.\n"
     ]
    },
    {
     "data": {
      "application/vnd.jupyter.widget-view+json": {
       "model_id": "cfaf306eaf0a4b2fa5419e0bb1b4afde",
       "version_major": 2,
       "version_minor": 0
      },
      "text/plain": [
       "Map:   0%|          | 0/264 [00:00<?, ? examples/s]"
      ]
     },
     "metadata": {},
     "output_type": "display_data"
    },
    {
     "name": "stderr",
     "output_type": "stream",
     "text": [
      "C:\\Users\\Augustijn\\AppData\\Roaming\\Python\\Python310\\site-packages\\transformers\\models\\whisper\\tokenization_whisper.py:511: UserWarning: The private method `_normalize` is deprecated and will be removed in v5 of Transformers.You can normalize an input string using the Whisper English normalizer using the `normalize` method.\n",
      "  warnings.warn(\n",
      "Special tokens have been added in the vocabulary, make sure the associated word embeddings are fine-tuned or trained.\n"
     ]
    },
    {
     "data": {
      "application/vnd.jupyter.widget-view+json": {
       "model_id": "cfaefddf303c4ab8bfab7d50a1faed61",
       "version_major": 2,
       "version_minor": 0
      },
      "text/plain": [
       "Map:   0%|          | 0/264 [00:00<?, ? examples/s]"
      ]
     },
     "metadata": {},
     "output_type": "display_data"
    },
    {
     "name": "stderr",
     "output_type": "stream",
     "text": [
      "C:\\Users\\Augustijn\\AppData\\Roaming\\Python\\Python310\\site-packages\\transformers\\models\\whisper\\tokenization_whisper.py:511: UserWarning: The private method `_normalize` is deprecated and will be removed in v5 of Transformers.You can normalize an input string using the Whisper English normalizer using the `normalize` method.\n",
      "  warnings.warn(\n",
      "Special tokens have been added in the vocabulary, make sure the associated word embeddings are fine-tuned or trained.\n"
     ]
    },
    {
     "data": {
      "application/vnd.jupyter.widget-view+json": {
       "model_id": "cc20d7c5e6774a688431ef20372cb7ad",
       "version_major": 2,
       "version_minor": 0
      },
      "text/plain": [
       "Map:   0%|          | 0/264 [00:00<?, ? examples/s]"
      ]
     },
     "metadata": {},
     "output_type": "display_data"
    },
    {
     "name": "stderr",
     "output_type": "stream",
     "text": [
      "C:\\Users\\Augustijn\\AppData\\Roaming\\Python\\Python310\\site-packages\\transformers\\models\\whisper\\tokenization_whisper.py:511: UserWarning: The private method `_normalize` is deprecated and will be removed in v5 of Transformers.You can normalize an input string using the Whisper English normalizer using the `normalize` method.\n",
      "  warnings.warn(\n",
      "Special tokens have been added in the vocabulary, make sure the associated word embeddings are fine-tuned or trained.\n"
     ]
    },
    {
     "data": {
      "application/vnd.jupyter.widget-view+json": {
       "model_id": "0945e8a0df86449bacd138bf32e3b014",
       "version_major": 2,
       "version_minor": 0
      },
      "text/plain": [
       "Map:   0%|          | 0/264 [00:00<?, ? examples/s]"
      ]
     },
     "metadata": {},
     "output_type": "display_data"
    },
    {
     "name": "stderr",
     "output_type": "stream",
     "text": [
      "C:\\Users\\Augustijn\\AppData\\Roaming\\Python\\Python310\\site-packages\\transformers\\models\\whisper\\tokenization_whisper.py:511: UserWarning: The private method `_normalize` is deprecated and will be removed in v5 of Transformers.You can normalize an input string using the Whisper English normalizer using the `normalize` method.\n",
      "  warnings.warn(\n",
      "Special tokens have been added in the vocabulary, make sure the associated word embeddings are fine-tuned or trained.\n"
     ]
    },
    {
     "data": {
      "application/vnd.jupyter.widget-view+json": {
       "model_id": "03c8e8566e764c69bf42ee5fc5f0d6fa",
       "version_major": 2,
       "version_minor": 0
      },
      "text/plain": [
       "Map:   0%|          | 0/264 [00:00<?, ? examples/s]"
      ]
     },
     "metadata": {},
     "output_type": "display_data"
    },
    {
     "name": "stderr",
     "output_type": "stream",
     "text": [
      "C:\\Users\\Augustijn\\AppData\\Roaming\\Python\\Python310\\site-packages\\transformers\\models\\whisper\\tokenization_whisper.py:511: UserWarning: The private method `_normalize` is deprecated and will be removed in v5 of Transformers.You can normalize an input string using the Whisper English normalizer using the `normalize` method.\n",
      "  warnings.warn(\n"
     ]
    },
    {
     "data": {
      "text/html": [
       "<div>\n",
       "<style scoped>\n",
       "    .dataframe tbody tr th:only-of-type {\n",
       "        vertical-align: middle;\n",
       "    }\n",
       "\n",
       "    .dataframe tbody tr th {\n",
       "        vertical-align: top;\n",
       "    }\n",
       "\n",
       "    .dataframe thead th {\n",
       "        text-align: right;\n",
       "    }\n",
       "</style>\n",
       "<table border=\"1\" class=\"dataframe\">\n",
       "  <thead>\n",
       "    <tr style=\"text-align: right;\">\n",
       "      <th></th>\n",
       "      <th>model</th>\n",
       "      <th>wer</th>\n",
       "      <th>cer</th>\n",
       "    </tr>\n",
       "  </thead>\n",
       "  <tbody>\n",
       "    <tr>\n",
       "      <th>0</th>\n",
       "      <td>openai/whisper-small</td>\n",
       "      <td>69.881991</td>\n",
       "      <td>31.408633</td>\n",
       "    </tr>\n",
       "    <tr>\n",
       "      <th>1</th>\n",
       "      <td>afr_FLEURS_model</td>\n",
       "      <td>28.818197</td>\n",
       "      <td>10.653083</td>\n",
       "    </tr>\n",
       "    <tr>\n",
       "      <th>2</th>\n",
       "      <td>afr_de_FLEURS_model</td>\n",
       "      <td>25.209509</td>\n",
       "      <td>9.690242</td>\n",
       "    </tr>\n",
       "    <tr>\n",
       "      <th>3</th>\n",
       "      <td>afr_nl_FLEURS_model</td>\n",
       "      <td>29.262870</td>\n",
       "      <td>10.868029</td>\n",
       "    </tr>\n",
       "    <tr>\n",
       "      <th>4</th>\n",
       "      <td>afr_NCHLT_FLEURS_model</td>\n",
       "      <td>26.081751</td>\n",
       "      <td>11.247865</td>\n",
       "    </tr>\n",
       "    <tr>\n",
       "      <th>5</th>\n",
       "      <td>afr_de_FLEURS_model_5h</td>\n",
       "      <td>28.972122</td>\n",
       "      <td>10.656027</td>\n",
       "    </tr>\n",
       "    <tr>\n",
       "      <th>6</th>\n",
       "      <td>afr_south_hollandic_model</td>\n",
       "      <td>37.848469</td>\n",
       "      <td>17.016077</td>\n",
       "    </tr>\n",
       "    <tr>\n",
       "      <th>7</th>\n",
       "      <td>afr_flemish_model</td>\n",
       "      <td>47.306311</td>\n",
       "      <td>21.580001</td>\n",
       "    </tr>\n",
       "    <tr>\n",
       "      <th>8</th>\n",
       "      <td>afr_south_hollandic_v2_model</td>\n",
       "      <td>33.555670</td>\n",
       "      <td>15.655733</td>\n",
       "    </tr>\n",
       "    <tr>\n",
       "      <th>9</th>\n",
       "      <td>afr_flemish_v2_model</td>\n",
       "      <td>34.308192</td>\n",
       "      <td>15.611566</td>\n",
       "    </tr>\n",
       "  </tbody>\n",
       "</table>\n",
       "</div>"
      ],
      "text/plain": [
       "                          model        wer        cer\n",
       "0          openai/whisper-small  69.881991  31.408633\n",
       "1              afr_FLEURS_model  28.818197  10.653083\n",
       "2           afr_de_FLEURS_model  25.209509   9.690242\n",
       "3           afr_nl_FLEURS_model  29.262870  10.868029\n",
       "4        afr_NCHLT_FLEURS_model  26.081751  11.247865\n",
       "5        afr_de_FLEURS_model_5h  28.972122  10.656027\n",
       "6     afr_south_hollandic_model  37.848469  17.016077\n",
       "7             afr_flemish_model  47.306311  21.580001\n",
       "8  afr_south_hollandic_v2_model  33.555670  15.655733\n",
       "9          afr_flemish_v2_model  34.308192  15.611566"
      ]
     },
     "execution_count": 9,
     "metadata": {},
     "output_type": "execute_result"
    }
   ],
   "source": [
    "wers = []\n",
    "cers = []\n",
    "for model in models:\n",
    "    w, c = get_metrics(model)\n",
    "    wers.append(w)\n",
    "    cers.append(c)\n",
    "\n",
    "df = pd.DataFrame({'model': models, 'wer': wers, 'cer':cers})\n",
    "df.to_csv(f'{dest_folder}/model_metrics.csv',sep=',', index=False)\n",
    "df"
   ]
  },
  {
   "cell_type": "code",
   "execution_count": 10,
   "id": "f219b81f",
   "metadata": {},
   "outputs": [
    {
     "data": {
      "text/html": [
       "<div>\n",
       "<style scoped>\n",
       "    .dataframe tbody tr th:only-of-type {\n",
       "        vertical-align: middle;\n",
       "    }\n",
       "\n",
       "    .dataframe tbody tr th {\n",
       "        vertical-align: top;\n",
       "    }\n",
       "\n",
       "    .dataframe thead th {\n",
       "        text-align: right;\n",
       "    }\n",
       "</style>\n",
       "<table border=\"1\" class=\"dataframe\">\n",
       "  <thead>\n",
       "    <tr style=\"text-align: right;\">\n",
       "      <th></th>\n",
       "      <th>model</th>\n",
       "      <th>wer</th>\n",
       "      <th>cer</th>\n",
       "    </tr>\n",
       "  </thead>\n",
       "  <tbody>\n",
       "    <tr>\n",
       "      <th>2</th>\n",
       "      <td>afr_de_FLEURS_model</td>\n",
       "      <td>25.209509</td>\n",
       "      <td>9.690242</td>\n",
       "    </tr>\n",
       "    <tr>\n",
       "      <th>4</th>\n",
       "      <td>afr_NCHLT_FLEURS_model</td>\n",
       "      <td>26.081751</td>\n",
       "      <td>11.247865</td>\n",
       "    </tr>\n",
       "    <tr>\n",
       "      <th>1</th>\n",
       "      <td>afr_FLEURS_model</td>\n",
       "      <td>28.818197</td>\n",
       "      <td>10.653083</td>\n",
       "    </tr>\n",
       "    <tr>\n",
       "      <th>5</th>\n",
       "      <td>afr_de_FLEURS_model_5h</td>\n",
       "      <td>28.972122</td>\n",
       "      <td>10.656027</td>\n",
       "    </tr>\n",
       "    <tr>\n",
       "      <th>3</th>\n",
       "      <td>afr_nl_FLEURS_model</td>\n",
       "      <td>29.262870</td>\n",
       "      <td>10.868029</td>\n",
       "    </tr>\n",
       "    <tr>\n",
       "      <th>8</th>\n",
       "      <td>afr_south_hollandic_v2_model</td>\n",
       "      <td>33.555670</td>\n",
       "      <td>15.655733</td>\n",
       "    </tr>\n",
       "    <tr>\n",
       "      <th>9</th>\n",
       "      <td>afr_flemish_v2_model</td>\n",
       "      <td>34.308192</td>\n",
       "      <td>15.611566</td>\n",
       "    </tr>\n",
       "    <tr>\n",
       "      <th>6</th>\n",
       "      <td>afr_south_hollandic_model</td>\n",
       "      <td>37.848469</td>\n",
       "      <td>17.016077</td>\n",
       "    </tr>\n",
       "    <tr>\n",
       "      <th>7</th>\n",
       "      <td>afr_flemish_model</td>\n",
       "      <td>47.306311</td>\n",
       "      <td>21.580001</td>\n",
       "    </tr>\n",
       "    <tr>\n",
       "      <th>0</th>\n",
       "      <td>openai/whisper-small</td>\n",
       "      <td>69.881991</td>\n",
       "      <td>31.408633</td>\n",
       "    </tr>\n",
       "  </tbody>\n",
       "</table>\n",
       "</div>"
      ],
      "text/plain": [
       "                          model        wer        cer\n",
       "2           afr_de_FLEURS_model  25.209509   9.690242\n",
       "4        afr_NCHLT_FLEURS_model  26.081751  11.247865\n",
       "1              afr_FLEURS_model  28.818197  10.653083\n",
       "5        afr_de_FLEURS_model_5h  28.972122  10.656027\n",
       "3           afr_nl_FLEURS_model  29.262870  10.868029\n",
       "8  afr_south_hollandic_v2_model  33.555670  15.655733\n",
       "9          afr_flemish_v2_model  34.308192  15.611566\n",
       "6     afr_south_hollandic_model  37.848469  17.016077\n",
       "7             afr_flemish_model  47.306311  21.580001\n",
       "0          openai/whisper-small  69.881991  31.408633"
      ]
     },
     "execution_count": 10,
     "metadata": {},
     "output_type": "execute_result"
    }
   ],
   "source": [
    "df.sort_values(by='wer')"
   ]
  },
  {
   "cell_type": "code",
   "execution_count": 11,
   "id": "97fdfb87",
   "metadata": {},
   "outputs": [
    {
     "data": {
      "text/html": [
       "<div>\n",
       "<style scoped>\n",
       "    .dataframe tbody tr th:only-of-type {\n",
       "        vertical-align: middle;\n",
       "    }\n",
       "\n",
       "    .dataframe tbody tr th {\n",
       "        vertical-align: top;\n",
       "    }\n",
       "\n",
       "    .dataframe thead th {\n",
       "        text-align: right;\n",
       "    }\n",
       "</style>\n",
       "<table border=\"1\" class=\"dataframe\">\n",
       "  <thead>\n",
       "    <tr style=\"text-align: right;\">\n",
       "      <th></th>\n",
       "      <th>model</th>\n",
       "      <th>wer</th>\n",
       "      <th>cer</th>\n",
       "    </tr>\n",
       "  </thead>\n",
       "  <tbody>\n",
       "    <tr>\n",
       "      <th>2</th>\n",
       "      <td>afr_de_FLEURS_model</td>\n",
       "      <td>25.209509</td>\n",
       "      <td>9.690242</td>\n",
       "    </tr>\n",
       "    <tr>\n",
       "      <th>1</th>\n",
       "      <td>afr_FLEURS_model</td>\n",
       "      <td>28.818197</td>\n",
       "      <td>10.653083</td>\n",
       "    </tr>\n",
       "    <tr>\n",
       "      <th>5</th>\n",
       "      <td>afr_de_FLEURS_model_5h</td>\n",
       "      <td>28.972122</td>\n",
       "      <td>10.656027</td>\n",
       "    </tr>\n",
       "    <tr>\n",
       "      <th>3</th>\n",
       "      <td>afr_nl_FLEURS_model</td>\n",
       "      <td>29.262870</td>\n",
       "      <td>10.868029</td>\n",
       "    </tr>\n",
       "    <tr>\n",
       "      <th>4</th>\n",
       "      <td>afr_NCHLT_FLEURS_model</td>\n",
       "      <td>26.081751</td>\n",
       "      <td>11.247865</td>\n",
       "    </tr>\n",
       "    <tr>\n",
       "      <th>9</th>\n",
       "      <td>afr_flemish_v2_model</td>\n",
       "      <td>34.308192</td>\n",
       "      <td>15.611566</td>\n",
       "    </tr>\n",
       "    <tr>\n",
       "      <th>8</th>\n",
       "      <td>afr_south_hollandic_v2_model</td>\n",
       "      <td>33.555670</td>\n",
       "      <td>15.655733</td>\n",
       "    </tr>\n",
       "    <tr>\n",
       "      <th>6</th>\n",
       "      <td>afr_south_hollandic_model</td>\n",
       "      <td>37.848469</td>\n",
       "      <td>17.016077</td>\n",
       "    </tr>\n",
       "    <tr>\n",
       "      <th>7</th>\n",
       "      <td>afr_flemish_model</td>\n",
       "      <td>47.306311</td>\n",
       "      <td>21.580001</td>\n",
       "    </tr>\n",
       "    <tr>\n",
       "      <th>0</th>\n",
       "      <td>openai/whisper-small</td>\n",
       "      <td>69.881991</td>\n",
       "      <td>31.408633</td>\n",
       "    </tr>\n",
       "  </tbody>\n",
       "</table>\n",
       "</div>"
      ],
      "text/plain": [
       "                          model        wer        cer\n",
       "2           afr_de_FLEURS_model  25.209509   9.690242\n",
       "1              afr_FLEURS_model  28.818197  10.653083\n",
       "5        afr_de_FLEURS_model_5h  28.972122  10.656027\n",
       "3           afr_nl_FLEURS_model  29.262870  10.868029\n",
       "4        afr_NCHLT_FLEURS_model  26.081751  11.247865\n",
       "9          afr_flemish_v2_model  34.308192  15.611566\n",
       "8  afr_south_hollandic_v2_model  33.555670  15.655733\n",
       "6     afr_south_hollandic_model  37.848469  17.016077\n",
       "7             afr_flemish_model  47.306311  21.580001\n",
       "0          openai/whisper-small  69.881991  31.408633"
      ]
     },
     "execution_count": 11,
     "metadata": {},
     "output_type": "execute_result"
    }
   ],
   "source": [
    "df.sort_values(by='cer')"
   ]
  },
  {
   "cell_type": "code",
   "execution_count": null,
   "id": "c3615b0a",
   "metadata": {},
   "outputs": [],
   "source": []
  }
 ],
 "metadata": {
  "kernelspec": {
   "display_name": "Python 3 (ipykernel)",
   "language": "python",
   "name": "python3"
  },
  "language_info": {
   "codemirror_mode": {
    "name": "ipython",
    "version": 3
   },
   "file_extension": ".py",
   "mimetype": "text/x-python",
   "name": "python",
   "nbconvert_exporter": "python",
   "pygments_lexer": "ipython3",
   "version": "3.10.9"
  }
 },
 "nbformat": 4,
 "nbformat_minor": 5
}
